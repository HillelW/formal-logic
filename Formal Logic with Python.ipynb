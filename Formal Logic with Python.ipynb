{
 "cells": [
  {
   "cell_type": "markdown",
   "id": "19fbee3d",
   "metadata": {},
   "source": [
    "# Formal Logic with Python\n",
    "\n",
    "## Propositional Formulas\n",
    "\n",
    "A *valid* or *well-formed* propositional formula is a string which satisfies at least one of the following syntactic rules:\n",
    "\n",
    "1. It is a variable name. A variable name is any letter in ‘p’. . . ‘z’, optionally followed by a sequence of digits. For\n",
    "example, ‘p’, ‘y12’, or ‘z035’.\n",
    "2. It is a constant of the form 'T' or 'F'.\n",
    "4. It is the string '~f', where f is a valid propositional formula.\n",
    "5. It is the string (a&b), where a and b are valid propositional formulas.\n",
    "6. It is the string (a|b), where a and b are valid propositional formulas.\n",
    "7. It is the string (a->b), where a and b are valid propositional formulas.\n",
    "\n",
    "We can view the above rules as string parsing rules and implement them in Python:"
   ]
  },
  {
   "cell_type": "code",
   "execution_count": 1,
   "id": "563f9bb3",
   "metadata": {},
   "outputs": [
    {
     "name": "stdout",
     "output_type": "stream",
     "text": [
      "p is a variable: True\n",
      "a is a variable: False\n",
      "z035 is a variable: True\n",
      "\n",
      "T is a constant: True\n",
      "F is a constant: True\n",
      "z is a constant: False\n",
      "\n",
      "~ is a unary operator: True\n",
      "& is a unary operator: False\n",
      "\n",
      "& is a binary operator: True\n",
      "| is a binary operator: True\n",
      "~ is a binary operator: False\n"
     ]
    }
   ],
   "source": [
    "def is_variable(string: str) -> bool:\n",
    "    return string[0] >= 'p' and string[0] <= 'z' and \\\n",
    "           (len(string) == 1 or string[1:].isdecimal())\n",
    "\n",
    "\n",
    "def is_constant(string: str) -> bool:\n",
    "    return string == 'T' or string == 'F'\n",
    "\n",
    "\n",
    "def is_unary_operator(string: str) -> bool:\n",
    "    return string == '~'\n",
    "\n",
    "\n",
    "def is_binary_operator(string: str) -> bool:\n",
    "    return string == '&' or string == '|' or string == '->'\n",
    "\n",
    "\n",
    "print('p is a variable:', is_variable('p'))\n",
    "print('a is a variable:', is_variable('a'))\n",
    "print('z035 is a variable:', is_variable('z035'))\n",
    "\n",
    "print('\\nT is a constant:', is_constant('T'))\n",
    "print('F is a constant:', is_constant('F'))\n",
    "print('z is a constant:', is_constant('z'))\n",
    "\n",
    "print('\\n~ is a unary operator:', is_unary_operator('~'))\n",
    "print('& is a unary operator:', is_unary_operator('&'))\n",
    "\n",
    "print('\\n& is a binary operator:', is_binary_operator('&'))\n",
    "print('| is a binary operator:', is_binary_operator('|'))\n",
    "print('~ is a binary operator:', is_binary_operator('~'))"
   ]
  },
  {
   "cell_type": "markdown",
   "id": "95b5ee9f",
   "metadata": {},
   "source": [
    "We can now start implementing a class to store an arbitrarily complex propositional formula as a parse tree. The tree conforms to the following rules:\n",
    "\n",
    "1. The leaves are proposition symbols.\n",
    "2. All non-leaves are logical operators.\n",
    "3. Negation has one child.\n",
    "4. Binary operators have two children.\n",
    "\n",
    "If a variable or a constant is passed in as the root, then no children can be passed in. If a unary operator is passed in as the root, then it can only have one child. Two children are only allowed if a binary operator is passed in as the root:"
   ]
  },
  {
   "cell_type": "code",
   "execution_count": null,
   "id": "b6ce217e",
   "metadata": {},
   "outputs": [],
   "source": []
  },
  {
   "cell_type": "code",
   "execution_count": 2,
   "id": "78b983f1",
   "metadata": {},
   "outputs": [],
   "source": [
    "from typing import Self\n",
    "\n",
    "\n",
    "class PropositionalFormula:\n",
    "    \"\"\"\n",
    "        Attributes:\n",
    "            root: a constant, variable name, or operator\n",
    "            first: the first operand of the root, if the root is a unary or binary operator.\n",
    "            second:the second operand of the root, if the root is a binary operator.\n",
    "    \"\"\"\n",
    "    def __init__(self, root: str, \n",
    "                 first: Self = None,\n",
    "                 second: Self = None\n",
    "                ):\n",
    "        if is_variable(root) or is_constant(root):\n",
    "            assert first is None and second is None\n",
    "            self.root = root\n",
    "        elif is_unary_operator(root):\n",
    "            assert first is not None and second is None\n",
    "            self.root, self.first = root, first\n",
    "        else:\n",
    "            assert is_binary_operator(root)\n",
    "            assert first is not None and second is not None\n",
    "            self.root, self.first, self.second = root, first, second"
   ]
  },
  {
   "cell_type": "markdown",
   "id": "609dc062",
   "metadata": {},
   "source": [
    "For example, we can represent the propositiona formula '~(p&q)' as follows:"
   ]
  },
  {
   "cell_type": "code",
   "execution_count": 3,
   "id": "74798c51",
   "metadata": {},
   "outputs": [
    {
     "name": "stdout",
     "output_type": "stream",
     "text": [
      "root of propositional_formula: ~\n",
      "first child of propositional formula: &\n",
      "first child of sub-propositional formula: p\n",
      "first child of sub-propositional formula: q\n"
     ]
    }
   ],
   "source": [
    "p = PropositionalFormula('p')\n",
    "q = PropositionalFormula('q')\n",
    "conjunction = PropositionalFormula('&', p, q)\n",
    "negation = '~'\n",
    "\n",
    "propositional_formula = PropositionalFormula('~', conjunction)\n",
    "\n",
    "print('root of propositional_formula:', propositional_formula.root)\n",
    "print('first child of propositional formula:', propositional_formula.first.root)\n",
    "print('first child of sub-propositional formula:', propositional_formula.first.first.root)\n",
    "print('first child of sub-propositional formula:', propositional_formula.first.second.root)"
   ]
  },
  {
   "cell_type": "markdown",
   "id": "bed7cd36",
   "metadata": {},
   "source": [
    "We can use recursion to convert an object of type PropositionalFormula into its corresponding string representation:"
   ]
  },
  {
   "cell_type": "code",
   "execution_count": 4,
   "id": "9a2e28d2",
   "metadata": {},
   "outputs": [
    {
     "data": {
      "text/plain": [
       "~p&q"
      ]
     },
     "execution_count": 4,
     "metadata": {},
     "output_type": "execute_result"
    }
   ],
   "source": [
    "class PropositionalFormula:\n",
    "    \"\"\"\n",
    "        Attributes:\n",
    "            root: a constant, variable name, or operator\n",
    "            first: the first operand of the root, if the root is a unary or binary operator.\n",
    "            second:the second operand of the root, if the root is a binary operator.\n",
    "    \"\"\"\n",
    "    def __init__(self, root: str, \n",
    "                 first: Self = None,\n",
    "                 second: Self = None\n",
    "                ):\n",
    "        self.first = None\n",
    "        self.second = None\n",
    "        if is_variable(root) or is_constant(root):\n",
    "            assert first is None and second is None\n",
    "            self.root = root\n",
    "        elif is_unary_operator(root):\n",
    "            assert first is not None and second is None\n",
    "            self.root, self.first = root, first\n",
    "        else:\n",
    "            assert is_binary_operator(root)\n",
    "            assert first is not None and second is not None\n",
    "            self.root, self.first, self.second = root, first, second\n",
    "            \n",
    "    def inorder(self):\n",
    "        result = ''\n",
    "        if self.root == '~':\n",
    "            result += self.root\n",
    "            result += self.first.inorder()\n",
    "        else:\n",
    "            if self.first:\n",
    "                result += self.first.inorder()\n",
    "            result += self.root\n",
    "            if self.second:\n",
    "                result += self.second.inorder()\n",
    "        return result\n",
    "        \n",
    "    def __repr__(self):\n",
    "        return self.inorder()\n",
    "\n",
    "p = PropositionalFormula('p')\n",
    "q = PropositionalFormula('q')\n",
    "conjunction = PropositionalFormula('&', p, q)\n",
    "negation = '~'\n",
    "propositional_formula = PropositionalFormula('~', conjunction)\n",
    "propositional_formula"
   ]
  },
  {
   "cell_type": "markdown",
   "id": "49ebeaa0",
   "metadata": {},
   "source": [
    "We can get the set of all of variables in a propositional formula using recursion as well:"
   ]
  },
  {
   "cell_type": "code",
   "execution_count": 5,
   "id": "ecbc3c90",
   "metadata": {},
   "outputs": [
    {
     "name": "stdout",
     "output_type": "stream",
     "text": [
      "expression: ~p&q\n",
      "variables used in the expression: {p, q}\n"
     ]
    }
   ],
   "source": [
    "class PropositionalFormula:\n",
    "    \"\"\"\n",
    "        Attributes:\n",
    "            root: a constant, variable name, or operator\n",
    "            first: the first operand of the root, if the root is a unary or binary operator.\n",
    "            second:the second operand of the root, if the root is a binary operator.\n",
    "    \"\"\"\n",
    "    def __init__(self, root: str, \n",
    "                 first: Self = None,\n",
    "                 second: Self = None\n",
    "                ):\n",
    "        self.first = None\n",
    "        self.second = None\n",
    "        if is_variable(root) or is_constant(root):\n",
    "            assert first is None and second is None\n",
    "            self.root = root\n",
    "        elif is_unary_operator(root):\n",
    "            assert first is not None and second is None\n",
    "            self.root, self.first = root, first\n",
    "        else:\n",
    "            assert is_binary_operator(root)\n",
    "            assert first is not None and second is not None\n",
    "            self.root, self.first, self.second = root, first, second\n",
    "            \n",
    "    def get_propositional_formula(self) -> str:\n",
    "        result = ''\n",
    "        if self.root == '~':\n",
    "            result += self.root\n",
    "            result += self.first.get_propositional_formula()\n",
    "        else:\n",
    "            if self.first:\n",
    "                result += self.first.get_propositional_formula()\n",
    "            result += self.root\n",
    "            if self.second:\n",
    "                result += self.second.get_propositional_formula()\n",
    "        return result\n",
    "    \n",
    "    def get_variables(self):\n",
    "        leaves = self._get_variables(self)\n",
    "        return set(leaves)\n",
    "\n",
    "    def _get_variables(self, root):\n",
    "        if not root: \n",
    "            return []\n",
    "        if not root.first and not root.second: \n",
    "            return [root]\n",
    "        leaves = self._get_variables(root.first) + self._get_variables(root.second)\n",
    "        return leaves \n",
    "\n",
    "        \n",
    "    def __repr__(self):\n",
    "        return self.get_propositional_formula()\n",
    "\n",
    "p = PropositionalFormula('p')\n",
    "q = PropositionalFormula('q')\n",
    "conjunction = PropositionalFormula('&', p, q)\n",
    "negation = '~'\n",
    "propositional_formula = PropositionalFormula('~', conjunction)\n",
    "\n",
    "\n",
    "print('expression:', propositional_formula)\n",
    "print('variables used in the expression:', end=' ')\n",
    "print(propositional_formula.get_variables())"
   ]
  },
  {
   "cell_type": "markdown",
   "id": "caf9e137",
   "metadata": {},
   "source": [
    "We can use recursion to get thet set of all operators used in a propositional formula:"
   ]
  },
  {
   "cell_type": "code",
   "execution_count": 6,
   "id": "a5da6f46",
   "metadata": {},
   "outputs": [
    {
     "name": "stdout",
     "output_type": "stream",
     "text": [
      "expression: ~p&q\n",
      "operators used in the expression: {'&', '~'}\n"
     ]
    }
   ],
   "source": [
    "class PropositionalFormula:\n",
    "    \"\"\"\n",
    "        Attributes:\n",
    "            root: a constant, variable name, or operator\n",
    "            first: the first operand of the root, if the root is a unary or binary operator.\n",
    "            second:the second operand of the root, if the root is a binary operator.\n",
    "    \"\"\"\n",
    "    def __init__(self, root: str, \n",
    "                 first: Self = None,\n",
    "                 second: Self = None\n",
    "                ):\n",
    "        self.first = None\n",
    "        self.second = None\n",
    "        if is_variable(root) or is_constant(root):\n",
    "            assert first is None and second is None\n",
    "            self.root = root\n",
    "        elif is_unary_operator(root):\n",
    "            assert first is not None and second is None\n",
    "            self.root, self.first = root, first\n",
    "        else:\n",
    "            assert is_binary_operator(root)\n",
    "            assert first is not None and second is not None\n",
    "            self.root, self.first, self.second = root, first, second\n",
    "            \n",
    "    def get_propositional_formula(self) -> str:\n",
    "        result = ''\n",
    "        if self.root == '~':\n",
    "            result += self.root\n",
    "            result += self.first.get_propositional_formula()\n",
    "        else:\n",
    "            if self.first:\n",
    "                result += self.first.get_propositional_formula()\n",
    "            result += self.root\n",
    "            if self.second:\n",
    "                result += self.second.get_propositional_formula()\n",
    "        return result\n",
    "    \n",
    "    def get_variables(self, root):\n",
    "        leaves = self._get_variables(root)\n",
    "        return set(leaves)\n",
    "\n",
    "    def _get_variables(self, root):\n",
    "        if not root: \n",
    "            return []\n",
    "        if not root.first and not root.second: \n",
    "            return [root]\n",
    "        leaves = self._get_variables(root.first) + self._get_variables(root.second)\n",
    "        return leaves \n",
    "\n",
    "    def get_operators(self) -> set:\n",
    "        operators = self._get_operators(self)\n",
    "        return set(operators)\n",
    "\n",
    "    def _get_operators(self, root) -> list:\n",
    "        if not root:\n",
    "            return [] \n",
    "        if root.first or root.second: \n",
    "            return [root.root] + self._get_operators(root.first) + self._get_operators(root.second)\n",
    "        return self._get_operators(root.first) + self._get_operators(root.second)\n",
    "        \n",
    "    def __repr__(self):\n",
    "        return self.get_propositional_formula()\n",
    "\n",
    "p = PropositionalFormula('p')\n",
    "q = PropositionalFormula('q')\n",
    "conjunction = PropositionalFormula('&', p, q)\n",
    "negation = '~'\n",
    "propositional_formula = PropositionalFormula('~', conjunction)\n",
    "\n",
    "\n",
    "print('expression:', propositional_formula)\n",
    "print('operators used in the expression:', end=' ')\n",
    "print(propositional_formula.get_operators())"
   ]
  }
 ],
 "metadata": {
  "kernelspec": {
   "display_name": "Python 3 (ipykernel)",
   "language": "python",
   "name": "python3"
  },
  "language_info": {
   "codemirror_mode": {
    "name": "ipython",
    "version": 3
   },
   "file_extension": ".py",
   "mimetype": "text/x-python",
   "name": "python",
   "nbconvert_exporter": "python",
   "pygments_lexer": "ipython3",
   "version": "3.11.1"
  }
 },
 "nbformat": 4,
 "nbformat_minor": 5
}
